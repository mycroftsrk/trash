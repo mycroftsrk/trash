{
 "cells": [
  {
   "cell_type": "code",
   "execution_count": 155,
   "metadata": {},
   "outputs": [
    {
     "name": "stdout",
     "output_type": "stream",
     "text": [
      "                                                       0\n",
      "1      L08284210117888034070V2 2011060120410501037500...\n",
      "2      L08284210118295022936V1 2011060120410501037500...\n",
      "3      L08284210118475122936F1 2011060120410501037500...\n",
      "4      L08284210118686742936V1 2011060120410501037500...\n",
      "5      L08284210119148892936F2 2011060120410501037500...\n",
      "...                                                  ...\n",
      "12882  LMA244915029809983162F232003120120181101060000...\n",
      "12883  LMA244915029809993162F232004050120190401060000...\n",
      "12884  LMA244915029810003162F4 2007080120341101060000...\n",
      "12885  LMA244915029810013162F232006060120210501060000...\n",
      "12886  LMA244915029852764094F222008060120380501060000...\n",
      "\n",
      "[12688 rows x 1 columns]\n"
     ]
    }
   ],
   "source": [
    "import pandas as pd\n",
    "\n",
    "df = pd.read_table(\"llmon2_sample.txt\", header=None)\n",
    "df_type_L = df[df[0].str.startswith(\"L\")]\n",
    "\n",
    "print(df_type_L)"
   ]
  },
  {
   "cell_type": "code",
   "execution_count": 156,
   "metadata": {},
   "outputs": [],
   "source": [
    "reg_str = \"(?P<Record_Type_L>.{1})\"\n",
    "reg_str = reg_str + \"(?P<Pool_ID>.{6})\"\n",
    "reg_str = reg_str + \"(?P<Disclosure_Sequence_Number>.{10})\"\n",
    "reg_str = reg_str + \"(?P<Issuer_ID>.{4})\"\n",
    "reg_str = reg_str + \"(?P<Agency>.{1})\"\n",
    "reg_str = reg_str + \"(?P<Loan_Purpose>.{1})\"\n",
    "reg_str = reg_str + \"(?P<Refinance_Type>.{1})\"\n",
    "reg_str = reg_str + \"(?P<First_Payment_Date>.{8})\"\n",
    "reg_str = reg_str + \"(?P<Maturity_Date_of_Loan_>.{8})\"\n",
    "reg_str = reg_str + \"(?P<Loan_Interest_Rate>.{5})\"\n",
    "reg_str = reg_str + \"(?P<Original_Principal_Balance>.{11})\"\n",
    "reg_str = reg_str + \"(?P<UPB_at_Issuance>.{11})\"\n",
    "reg_str = reg_str + \"(?P<Unpaid_Principal_Balance>.{11})\"\n",
    "reg_str = reg_str + \"(?P<Original_Loan_Term>.{3})\"\n",
    "reg_str = reg_str + \"(?P<Loan_Age>.{3})\"\n",
    "reg_str = reg_str + \"(?P<Remaining_Loan_Term>.{3})\"\n",
    "reg_str = reg_str + \"(?P<Months_Delinquent>.{1})\"\n",
    "reg_str = reg_str + \"(?P<Months_PrePaid>.{1})\"\n",
    "reg_str = reg_str + \"(?P<Loan_Gross_Margin>.{4})\"\n",
    "reg_str = reg_str + \"(?P<Loan_To_Value>.{5})\"\n",
    "reg_str = reg_str + \"(?P<Combined_LTV>.{5})\"\n",
    "reg_str = reg_str + \"(?P<Total_Debt_Expense_Ratio_Percent>.{5})\"\n",
    "reg_str = reg_str + \"(?P<Credit_Score>.{3})\"\n",
    "reg_str = reg_str + \"(?P<Down_Payment_Assistance>.{1})\"\n",
    "reg_str = reg_str + \"(?P<Buy_Down_Status>.{1})\"\n",
    "reg_str = reg_str + \"(?P<Upfront_MIP>.{5})\"\n",
    "reg_str = reg_str + \"(?P<Annual_MIP>.{5})\"\n",
    "reg_str = reg_str + \"(?P<Number_of_Borrowers>.{1})\"\n",
    "reg_str = reg_str + \"(?P<First_Time_Home_Buyer>.{1})\"\n",
    "reg_str = reg_str + \"(?P<Property_Type>.{1})\"\n",
    "reg_str = reg_str + \"(?P<State>.{2})\"\n",
    "reg_str = reg_str + \"(?P<MSA>.{5})\"\n",
    "reg_str = reg_str + \"(?P<ThirdParty_Origination_Type>.{1})\"\n",
    "reg_str = reg_str + \"(?P<Current_Month_Liquidation_Flag>.{1})\"\n",
    "reg_str = reg_str + \"(?P<Removal_Reason>.{1})\"\n",
    "reg_str = reg_str + \"(?P<As_of_Date>.{6})\"\n",
    "\n",
    "reg_str = reg_str + \"(?P<Loan_Origination_Date>.{8})\"\n",
    "reg_str = reg_str + \"(?P<Seller_Issuer_ID>.{4})\"\n",
    "\n",
    "reg_str = reg_str + \"(?P<OTHERS>.*)\"\n",
    "# reg_str = reg_str + \"(?P<Index_Type>.{5})\"\n",
    "\n",
    "# reg_str = reg_str + \"(?P<LookBack_Period>.{2})\"\n",
    "# reg_str = reg_str + \"(?P<Interest_Rate_Change_Date>.{8})\""
   ]
  },
  {
   "cell_type": "code",
   "execution_count": 157,
   "metadata": {},
   "outputs": [],
   "source": [
    "df_type_L_sep = df_type_L[0].str.extract(reg_str, expand=True)"
   ]
  },
  {
   "cell_type": "code",
   "execution_count": 166,
   "metadata": {},
   "outputs": [
    {
     "name": "stdout",
     "output_type": "stream",
     "text": [
      "1        N\n",
      "2        N\n",
      "3        N\n",
      "4        N\n",
      "5        N\n",
      "        ..\n",
      "12882    N\n",
      "12883    N\n",
      "12884    N\n",
      "12885    N\n",
      "12886    N\n",
      "Name: Current_Month_Liquidation_Flag, Length: 12688, dtype: object\n"
     ]
    }
   ],
   "source": [
    "print(df_type_L_sep)"
   ]
  },
  {
   "cell_type": "code",
   "execution_count": 167,
   "metadata": {},
   "outputs": [
    {
     "name": "stdout",
     "output_type": "stream",
     "text": [
      "1        N\n",
      "2        N\n",
      "3        N\n",
      "4        N\n",
      "5        N\n",
      "        ..\n",
      "12882    N\n",
      "12883    N\n",
      "12884    N\n",
      "12885    N\n",
      "12886    N\n",
      "Name: Current_Month_Liquidation_Flag, Length: 12688, dtype: object\n"
     ]
    }
   ],
   "source": [
    "print(df_type_L_sep['Current_Month_Liquidation_Flag'])"
   ]
  },
  {
   "cell_type": "code",
   "execution_count": 171,
   "metadata": {},
   "outputs": [
    {
     "name": "stdout",
     "output_type": "stream",
     "text": [
      "1        201504\n",
      "2        201504\n",
      "3        201504\n",
      "4        201504\n",
      "5        201504\n",
      "          ...  \n",
      "12882    201504\n",
      "12883    201504\n",
      "12884    201504\n",
      "12885    201504\n",
      "12886    201504\n",
      "Name: As_of_Date, Length: 12688, dtype: object\n"
     ]
    }
   ],
   "source": [
    "print(df_type_L_sep['As_of_Date'])"
   ]
  },
  {
   "cell_type": "code",
   "execution_count": 172,
   "metadata": {},
   "outputs": [
    {
     "name": "stdout",
     "output_type": "stream",
     "text": [
      "1                \n",
      "2                \n",
      "3                \n",
      "4                \n",
      "5                \n",
      "           ...   \n",
      "12882            \n",
      "12883            \n",
      "12884            \n",
      "12885            \n",
      "12886            \n",
      "Name: Loan_Origination_Date, Length: 12688, dtype: object\n"
     ]
    }
   ],
   "source": [
    "print(df_type_L_sep['Loan_Origination_Date'])"
   ]
  }
 ],
 "metadata": {
  "interpreter": {
   "hash": "347096f66a17103b2c2032a04f531b29eb8dd44e4d7c03295e2e0e4e1a943ee3"
  },
  "kernelspec": {
   "display_name": "Python 3.10.4 ('venv': venv)",
   "language": "python",
   "name": "python3"
  },
  "language_info": {
   "codemirror_mode": {
    "name": "ipython",
    "version": 3
   },
   "file_extension": ".py",
   "mimetype": "text/x-python",
   "name": "python",
   "nbconvert_exporter": "python",
   "pygments_lexer": "ipython3",
   "version": "3.10.4"
  },
  "orig_nbformat": 4
 },
 "nbformat": 4,
 "nbformat_minor": 2
}
